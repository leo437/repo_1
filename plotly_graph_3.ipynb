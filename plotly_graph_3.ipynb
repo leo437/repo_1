{
  "nbformat": 4,
  "nbformat_minor": 0,
  "metadata": {
    "colab": {
      "private_outputs": true,
      "provenance": [],
      "authorship_tag": "ABX9TyMfplWQcG8lNN7lg5J/uPLM",
      "include_colab_link": true
    },
    "kernelspec": {
      "name": "python3",
      "display_name": "Python 3"
    },
    "language_info": {
      "name": "python"
    }
  },
  "cells": [
    {
      "cell_type": "markdown",
      "metadata": {
        "id": "view-in-github",
        "colab_type": "text"
      },
      "source": [
        "<a href=\"https://colab.research.google.com/github/leo437/repo_1/blob/main/plotly_graph_3.ipynb\" target=\"_parent\"><img src=\"https://colab.research.google.com/assets/colab-badge.svg\" alt=\"Open In Colab\"/></a>"
      ]
    },
    {
      "cell_type": "markdown",
      "source": [
        "## Graficar la función:\n",
        "### $$y=2cos(3x^2)$$\n",
        "### en el intervalo $[-2,2]$"
      ],
      "metadata": {
        "id": "evFeEyr3hBHx"
      }
    },
    {
      "cell_type": "code",
      "execution_count": null,
      "metadata": {
        "id": "-mbqmzICOnwm"
      },
      "outputs": [],
      "source": [
        "\n",
        "import numpy as np\n",
        "import plotly.graph_objects as go\n",
        "\n",
        "x=np.linspace(-2,2,100)\n",
        "y=2*np.cos(3*x**2)\n",
        "ejeX=0*x\n",
        "\n",
        "fig=go.Figure()\n",
        "fig.update_layout(width=500,height=300)\n",
        "\n",
        "fig.add_trace(go.Scatter(x=x,y=y,mode='lines',\n",
        "                         name='2cos(3x<sup>2</sup>)'))\n",
        "fig.add_trace(go.Scatter(x=x,y=ejeX,\n",
        "                         mode='lines',name='eje X en y=0'))\n",
        "fig.update_layout(title='<b>y=2cos(3X<sup>2</sup>)</b>',\n",
        "                  xaxis_title='<b>x</b>',yaxis_title='<b>y</b>')\n",
        "\n",
        "fig.show()"
      ]
    },
    {
      "cell_type": "code",
      "source": [
        "# Personalizar el diseño de los ejes\n",
        "fig.update_layout(\n",
        "    xaxis_title=\"Eje X\",\n",
        "    yaxis_title=\"Eje Y\",\n",
        "    xaxis=dict(\n",
        "        title_font=dict(size=18, color='blue'),\n",
        "        tickfont=dict(size=14, color='green'),\n",
        "        showgrid=True,\n",
        "        gridcolor='lightgrey',\n",
        "        zeroline=True,\n",
        "        zerolinecolor='red',\n",
        "        zerolinewidth=2,\n",
        "        rangemode='tozero'\n",
        "    ),\n",
        "    yaxis=dict(\n",
        "        title_font=dict(size=18, color='blue'),\n",
        "        tickfont=dict(size=14, color='green'),\n",
        "        showgrid=True,\n",
        "        gridcolor='lightgrey',\n",
        "        zeroline=True,\n",
        "        zerolinecolor='blue',           #'blue',\n",
        "        zerolinewidth=5,\n",
        "        rangemode='tozero'\n",
        "    ),\n",
        "    title=\"Gráfico con Ejes Personalizados\"\n",
        ")\n",
        "\n",
        "# Mostrar el gráfico\n",
        "fig.show()"
      ],
      "metadata": {
        "id": "1tRYrFYsPvs7"
      },
      "execution_count": null,
      "outputs": []
    },
    {
      "cell_type": "code",
      "source": [
        "R=80000\n",
        "f=np.linspace(0.0030,0.0440,100)\n",
        "y=np.sqrt(f)*np.log(R*np.sqrt(f)/2.51)-1.1513\n",
        "ejeX=0*f\n",
        "fig=go.Figure()\n",
        "fig.update_layout(width=600,height=600)\n",
        "fig.add_trace(go.Scatter(x=f,y=y,mode='lines',name='turbulencia Reynols=5000'))\n",
        "fig.add_trace(go.Scatter(x=f,y=ejeX,mode='lines',name='Eje x en y=0'))\n",
        "fig.show()"
      ],
      "metadata": {
        "id": "vFacprbHmNy2"
      },
      "execution_count": null,
      "outputs": []
    }
  ]
}